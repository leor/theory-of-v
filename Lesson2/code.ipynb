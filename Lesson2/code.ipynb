{
 "cells": [
  {
   "cell_type": "code",
   "execution_count": 1,
   "metadata": {},
   "outputs": [],
   "source": [
    "import numpy as np\n",
    "\n",
    "def combinations(n, k):\n",
    "    return int(np.math.factorial(n) / (np.math.factorial(k) * np.math.factorial(n - k)))\n"
   ]
  },
  {
   "cell_type": "markdown",
   "metadata": {},
   "source": [
    "## Задание 1\n",
    "Вероятность того, что стрелок попадет в мишень, выстрелив один раз, равна 0.8. Стрелок выстрелил 100 раз. Найдите вероятность того, что стрелок попадет в цель ровно 85 раз."
   ]
  },
  {
   "cell_type": "code",
   "execution_count": 2,
   "metadata": {},
   "outputs": [
    {
     "data": {
      "text/plain": [
       "0.048061793700746355"
      ]
     },
     "execution_count": 2,
     "metadata": {},
     "output_type": "execute_result"
    }
   ],
   "source": [
    "# решаем по формуле Биномиального распределения, т.к. вероятность довольно высокая\n",
    "# P(X=k) = n!/k!(n-k)! * p^k * q^(n-k)\n",
    "n = 100\n",
    "k = 85\n",
    "p = 0.8\n",
    "q = 1-0.8\n",
    "\n",
    "P = np.math.factorial(n)/(np.math.factorial(k)*np.math.factorial(n-k)) * p**k * q**(n-k)\n",
    "P"
   ]
  },
  {
   "cell_type": "markdown",
   "metadata": {},
   "source": [
    "## Задание 2\n",
    "Вероятность того, что лампочка перегорит в течение первого дня эксплуатации, равна 0.0004. В жилом комплексе после ремонта в один день включили 5000 новых лампочек. Какова вероятность, что ни одна из них не перегорит в первый день? Какова вероятность, что перегорят ровно две?"
   ]
  },
  {
   "cell_type": "code",
   "execution_count": 3,
   "metadata": {},
   "outputs": [
    {
     "name": "stdout",
     "output_type": "stream",
     "text": [
      "Не перегорит ни одна лампочка 0.1353352832366127\n",
      "Перегорят ровно 2 лампочки 0.2706705664732254\n"
     ]
    }
   ],
   "source": [
    "# используем формулу Пуассона\n",
    "# A1 событие - не перегорит ни одна лампочка\n",
    "# A2 событие - перегорят ровно 2 лампочки\n",
    "\n",
    "m1 = 0 # m события А1\n",
    "m2 = 2 # m события А2\n",
    "p = 0.0004\n",
    "n = 5000\n",
    "lambda_ = n*p\n",
    "\n",
    "P1 = (lambda_ ** m1 / np.math.factorial(m1)) * np.math.exp(-lambda_)\n",
    "P2 = (lambda_ ** m2 / np.math.factorial(m2)) * np.math.exp(-lambda_)\n",
    "\n",
    "print(f'Не перегорит ни одна лампочка {P1}')\n",
    "print(f'Перегорят ровно 2 лампочки {P2}')"
   ]
  },
  {
   "cell_type": "markdown",
   "metadata": {},
   "source": [
    "## Задание 3\n",
    "\n",
    "Монету подбросили 144 раза. Какова вероятность, что орел выпадет ровно 70 раз?"
   ]
  },
  {
   "cell_type": "code",
   "execution_count": 4,
   "metadata": {},
   "outputs": [
    {
     "data": {
      "text/plain": [
       "0.06281178035144776"
      ]
     },
     "execution_count": 4,
     "metadata": {},
     "output_type": "execute_result"
    }
   ],
   "source": [
    "# вероятность выпадения орла в 1 испытании p = 0.5\n",
    "# вероятность довольно большая, следует применять формулу Бернулли (биномиальное распределение)\n",
    "\n",
    "n = 144\n",
    "k = 70\n",
    "p = 0.5\n",
    "q = 0.5\n",
    "\n",
    "P = np.math.factorial(n)/(np.math.factorial(k)*np.math.factorial(n-k)) * p**k * q**(n-k)\n",
    "P"
   ]
  },
  {
   "cell_type": "markdown",
   "metadata": {},
   "source": [
    "## Задание 4\n",
    "\n",
    "В первом ящике находится 10 мячей, из которых 7 - белые. Во втором ящике - 11 мячей, из которых 9 белых. Из каждого ящика вытаскивают случайным образом по два мяча. Какова вероятность того, что все мячи белые? Какова вероятность того, что ровно два мяча белые? Какова вероятность того, что хотя бы один мяч белый?"
   ]
  },
  {
   "cell_type": "code",
   "execution_count": 18,
   "metadata": {},
   "outputs": [
    {
     "name": "stdout",
     "output_type": "stream",
     "text": [
      "Все 4 мяча белые 0.3054545454545455\n",
      "Ровно 2 мяча белые 0.20484848484848486\n",
      "Хотя бы 1 мяч белый 0.9987878787878788\n"
     ]
    }
   ],
   "source": [
    "C12 = combinations(10, 2) # выбираем 2 мяча из 1й коробки\n",
    "C1W2 = combinations(7, 2) # вибираем 2 белых из 1й коробки\n",
    "C1W1 = combinations(7, 1) # вибираем 1 белый из 1й коробки\n",
    "C1O2 = combinations(3, 2) # выбираем 2 не-белых из 1й коробки\n",
    "C1O1 = combinations(3, 1) # выбираем 1 не-белый из 1й коробки\n",
    "\n",
    "C22 = combinations(11, 2) # выбираем 2 мяча из 2й коробки\n",
    "C2W2 = combinations(9, 2) # выбираем 2 белых мяча из 2й коробки\n",
    "C2W1 = combinations(9, 1) # вибираем 1 белый из 2й коробки\n",
    "C2O2 = combinations(2, 2) # выбираем 2 не-белых из 2й коробки\n",
    "C2O1 = combinations(2, 1) # выбираем 1 не-белый из 2й коробки\n",
    "\n",
    "P1 = C1W2/C12 * C2W2/C22 # вероятность вытщить 4 белых из 4\n",
    "P2 = (C1W2/C12 * C2O2/C22) + (C2W2/C22 * C1O2/C12) + ((C1W1*C1O1/C12) * (C2W1*C2O1/C22)) # вероятность вытащить ровно 2 белых из 4\n",
    "P3 = 1 - (C1O2/C12 * C2O2/C22) # вероятность вытащить хотя бы 1 белый из 4\n",
    "\n",
    "print(f'Все 4 мяча белые {P1}')\n",
    "print(f'Ровно 2 мяча белые {P2}')\n",
    "print(f'Хотя бы 1 мяч белый {P3}')\n"
   ]
  },
  {
   "cell_type": "code",
   "execution_count": 26,
   "metadata": {},
   "outputs": [
    {
     "name": "stdout",
     "output_type": "stream",
     "text": [
      "Достали 4 белых: 0.305926\n"
     ]
    }
   ],
   "source": [
    "# а теперь проверяем методом Монте-Карло\n",
    "# это необязательно, но позволяет проверить результаты\n",
    "a = [1,1,1,1,1,1,1,0,0,0]\n",
    "b = [1,1,1,1,1,1,1,1,1,0,0]\n",
    "n = 100000\n",
    "\n",
    "m = 0\n",
    "\n",
    "# вероятность извлеч все белые\n",
    "for i in range(n):\n",
    "    np.random.shuffle(a)\n",
    "    np.random.shuffle(b)\n",
    "    \n",
    "    if np.sum(a[:2]) == 2 and np.sum(b[:2]) == 2:\n",
    "        m += 1\n",
    "        \n",
    "print(f'Достали 4 белых: {m/n}')"
   ]
  },
  {
   "cell_type": "code",
   "execution_count": 27,
   "metadata": {},
   "outputs": [
    {
     "name": "stdout",
     "output_type": "stream",
     "text": [
      "Достали ровно 2 белых: 0.204875\n"
     ]
    }
   ],
   "source": [
    "m1, m2, m3 = 0, 0, 0\n",
    "\n",
    "# вероятность извлеч ровно 2 шара\n",
    "for i in range(n):\n",
    "    np.random.shuffle(a)\n",
    "    np.random.shuffle(b)\n",
    "    \n",
    "    if np.sum(a[:2]) == 2 and np.sum(b[:2]) == 0:\n",
    "        m1 += 1\n",
    "    elif np.sum(a[:2]) == 0 and np.sum(b[:2]) == 2:\n",
    "        m2 += 1\n",
    "    elif np.sum(a[:2]) == 1 and np.sum(b[:2]) == 1:\n",
    "        m3 += 1\n",
    "        \n",
    "print(f'Достали ровно 2 белых: {(m1+m2+m3)/n}')"
   ]
  },
  {
   "cell_type": "code",
   "execution_count": 28,
   "metadata": {},
   "outputs": [
    {
     "name": "stdout",
     "output_type": "stream",
     "text": [
      "Достали хотя бы 1 белый: 0.933523\n"
     ]
    }
   ],
   "source": [
    "m = 0\n",
    "\n",
    "# вероятность извлеч хотя бы 1 белый шар\n",
    "for i in range(n):\n",
    "    np.random.shuffle(a)\n",
    "    np.random.shuffle(b)\n",
    "    \n",
    "    if np.sum(a[:2]) >= 1 or  np.sum(a[:2]) >= 1:\n",
    "        m += 1\n",
    "        \n",
    "print(f'Достали хотя бы 1 белый: {m/n}')"
   ]
  },
  {
   "cell_type": "code",
   "execution_count": null,
   "metadata": {},
   "outputs": [],
   "source": []
  }
 ],
 "metadata": {
  "kernelspec": {
   "display_name": "Python 3",
   "language": "python",
   "name": "python3"
  },
  "language_info": {
   "codemirror_mode": {
    "name": "ipython",
    "version": 3
   },
   "file_extension": ".py",
   "mimetype": "text/x-python",
   "name": "python",
   "nbconvert_exporter": "python",
   "pygments_lexer": "ipython3",
   "version": "3.7.1"
  }
 },
 "nbformat": 4,
 "nbformat_minor": 2
}
