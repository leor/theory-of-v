{
 "cells": [
  {
   "cell_type": "code",
   "execution_count": 27,
   "metadata": {},
   "outputs": [],
   "source": [
    "import numpy as np"
   ]
  },
  {
   "cell_type": "markdown",
   "metadata": {},
   "source": [
    "Провести дисперсионный анализ для определения того, есть ли различия среднего роста среди взрослых футболистов, хоккеистов и штангистов. Даны значения роста в трех группах случайно выбранных спортсменов: Футболисты: 173, 175, 180, 178, 177, 185, 183, 182. Хоккеисты: 177, 179, 180, 188, 177, 172, 171, 184, 180. Штангисты: 172, 173, 169, 177, 166, 180, 178, 177, 172, 166, 170."
   ]
  },
  {
   "cell_type": "code",
   "execution_count": 28,
   "metadata": {},
   "outputs": [],
   "source": [
    "y1 = np.array([173, 175, 180, 178, 177, 185, 183, 182]) # футболисты\n",
    "y2 = np.array([177, 179, 180, 188, 177, 172, 171, 184, 180]) # хоккеисты\n",
    "y3 = np.array([172, 173, 169, 177, 166, 180, 178, 177, 172, 166, 170]) # штангисты\n",
    "y = np.concatenate([y1, y2, y3])\n",
    "\n",
    "n1 = len(y1) # 8\n",
    "n2 = len(y2) # 9\n",
    "n3 = len(y3) # 11\n",
    "n = n1 + n2 + n3 # 28\n",
    "\n",
    "k = 3 # групп 3"
   ]
  },
  {
   "cell_type": "code",
   "execution_count": 29,
   "metadata": {},
   "outputs": [
    {
     "name": "stdout",
     "output_type": "stream",
     "text": [
      "Среднее для футболистов:  179.125\n",
      "Среднее для хоккеистов:  178.66666666666666\n",
      "Среднее для штангистов:  172.72727272727272\n",
      "Общее среднее:  176.46428571428572\n"
     ]
    }
   ],
   "source": [
    "y1_mean = y1.mean()\n",
    "y2_mean = y2.mean()\n",
    "y3_mean = y3.mean()\n",
    "y_mean = y.mean()\n",
    "\n",
    "print('Среднее для футболистов: ', y1_mean)\n",
    "print('Среднее для хоккеистов: ', y2_mean)\n",
    "print('Среднее для штангистов: ', y3_mean)\n",
    "print('Общее среднее: ', y_mean)"
   ]
  },
  {
   "cell_type": "code",
   "execution_count": 30,
   "metadata": {},
   "outputs": [
    {
     "name": "stdout",
     "output_type": "stream",
     "text": [
      "Сумма квадратов отклонений от общего среднего:  830.9642857142854\n"
     ]
    }
   ],
   "source": [
    "S2 = np.sum((y - y_mean)**2)\n",
    "print('Сумма квадратов отклонений от общего среднего: ', S2)"
   ]
  },
  {
   "cell_type": "code",
   "execution_count": 31,
   "metadata": {},
   "outputs": [
    {
     "name": "stdout",
     "output_type": "stream",
     "text": [
      "Сумма квадратов отклонений средних групповых значений от общего среднего:  253.9074675324678\n"
     ]
    }
   ],
   "source": [
    "S2_f = ((y1_mean - y_mean)**2) * n1 + ((y2_mean - y_mean)**2) * n2 + ((y3_mean - y_mean)**2) * n3\n",
    "\n",
    "print('Сумма квадратов отклонений средних групповых значений от общего среднего: ', S2_f)"
   ]
  },
  {
   "cell_type": "code",
   "execution_count": 32,
   "metadata": {},
   "outputs": [
    {
     "name": "stdout",
     "output_type": "stream",
     "text": [
      "Остаточная сумма квадратов отклонений:  577.0568181818182\n"
     ]
    }
   ],
   "source": [
    "S2_r = np.sum((y1 - y1_mean)**2) + np.sum((y2 - y2_mean)**2) + np.sum((y3 - y3_mean)**2)\n",
    "\n",
    "print('Остаточная сумма квадратов отклонений: ', S2_r)"
   ]
  },
  {
   "cell_type": "code",
   "execution_count": 33,
   "metadata": {},
   "outputs": [
    {
     "name": "stdout",
     "output_type": "stream",
     "text": [
      "S2 == S2_f + S2_r? -  830.9642857142854  =  830.964285714286\n"
     ]
    }
   ],
   "source": [
    "print('S2 == S2_f + S2_r? - ', S2, ' = ', (S2_f + S2_r))"
   ]
  },
  {
   "cell_type": "code",
   "execution_count": 34,
   "metadata": {},
   "outputs": [
    {
     "name": "stdout",
     "output_type": "stream",
     "text": [
      "Общая дисперсия:  28.67729591836734\n",
      "Факторная дисперсия:  83.63582251082259\n",
      "Остаточная дисперсия:  23.08227272727273\n",
      "Fh:  3.6233790103347645\n"
     ]
    }
   ],
   "source": [
    "D = S2 / n-1\n",
    "D_f = S2_f / k-1\n",
    "D_r = S2_r / (n-k)\n",
    "Fh = D_f / D_r\n",
    "\n",
    "print('Общая дисперсия: ', D)\n",
    "print('Факторная дисперсия: ', D_f)\n",
    "print('Остаточная дисперсия: ', D_r)\n",
    "print('Fh: ', Fh)"
   ]
  },
  {
   "cell_type": "code",
   "execution_count": 35,
   "metadata": {},
   "outputs": [
    {
     "name": "stdout",
     "output_type": "stream",
     "text": [
      "Fh > F_k - ( True ) - делаем вывод, что различие в росте для 3 групп статистически значимо\n"
     ]
    }
   ],
   "source": [
    "F_k = 3.38 # F крит. для df межд. = k - 1 = 2; df внутр. = n - k = 28 - 3 = 25\n",
    "\n",
    "print('Fh > F_k - (', Fh > F_k, ') - делаем вывод, что различие в росте для 3 групп статистически значимо')"
   ]
  },
  {
   "cell_type": "code",
   "execution_count": 36,
   "metadata": {},
   "outputs": [
    {
     "name": "stdout",
     "output_type": "stream",
     "text": [
      "eta2 =  0.30555761769498 - далеко от 1, поэтому можем сделать вывод, что разница в росте статистически незначима\n"
     ]
    }
   ],
   "source": [
    "eta2 = S2_f / S2\n",
    "\n",
    "print('eta2 = ', eta2, '- далеко от 1, поэтому можем сделать вывод, что разница в росте статистически незначима') # как же так?"
   ]
  },
  {
   "cell_type": "code",
   "execution_count": null,
   "metadata": {},
   "outputs": [],
   "source": []
  }
 ],
 "metadata": {
  "kernelspec": {
   "display_name": "Python 3",
   "language": "python",
   "name": "python3"
  },
  "language_info": {
   "codemirror_mode": {
    "name": "ipython",
    "version": 3
   },
   "file_extension": ".py",
   "mimetype": "text/x-python",
   "name": "python",
   "nbconvert_exporter": "python",
   "pygments_lexer": "ipython3",
   "version": "3.7.1"
  }
 },
 "nbformat": 4,
 "nbformat_minor": 2
}
