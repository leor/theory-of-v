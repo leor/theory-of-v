{
 "cells": [
  {
   "cell_type": "code",
   "execution_count": 45,
   "metadata": {},
   "outputs": [],
   "source": [
    "import numpy as np"
   ]
  },
  {
   "cell_type": "markdown",
   "metadata": {},
   "source": [
    "## Задание 1\n",
    "Даны значения величины заработной платы заемщиков банка (zp) и значения их поведенческого кредитного скоринга (ks): zp = [35, 45, 190, 200, 40, 70, 54, 150, 120, 110], ks = [401, 574, 874, 919, 459, 739, 653, 902, 746, 832]. Используя математические операции, посчитать коэффициенты линейной регрессии, приняв за X заработную плату (то есть, zp - признак), а за y - значения скорингового балла (то есть, ks - целевая переменная). Произвести расчет как с использованием intercept, так и без."
   ]
  },
  {
   "cell_type": "code",
   "execution_count": 46,
   "metadata": {},
   "outputs": [],
   "source": [
    "zp = np.array([35, 45, 190, 200, 40, 70, 54, 150, 120, 110]) # x\n",
    "ks = np.array([401, 574, 874, 919, 459, 739, 653, 902, 746, 832]) # y"
   ]
  },
  {
   "cell_type": "code",
   "execution_count": 47,
   "metadata": {},
   "outputs": [
    {
     "name": "stdout",
     "output_type": "stream",
     "text": [
      "a = 444.1773573243596\n",
      "b = 2.620538882402765\n",
      "r = 0.8874900920739162\n",
      "R2 = 0.7876386635293682\n"
     ]
    }
   ],
   "source": [
    "# с учётом intercept\n",
    "b = ((zp*ks).mean() - zp.mean()*ks.mean()) / ((zp**2).mean() - zp.mean()**2)\n",
    "a = ks.mean() - b*zp.mean() # intercept\n",
    "r = b * zp.std() / ks.std()\n",
    "R2 = r**2\n",
    "\n",
    "print(f'a = {a}')\n",
    "print(f'b = {b}')\n",
    "print(f'r = {r}')\n",
    "print(f'R2 = {R2}')"
   ]
  },
  {
   "cell_type": "code",
   "execution_count": 48,
   "metadata": {},
   "outputs": [
    {
     "name": "stdout",
     "output_type": "stream",
     "text": [
      "b = 5.889820420132689\n"
     ]
    }
   ],
   "source": [
    "# 2й способ без intercept\n",
    "y = ks.reshape((10,1))\n",
    "x = zp.reshape((10,1))\n",
    "# x = np.hstack([np.ones((10, 1)), x]) - наш intercept, но мы считаем без него\n",
    "\n",
    "b = np.linalg.inv(x.T @ x) @ x.T @ y\n",
    "print(f'b = {b[0,0]}')"
   ]
  },
  {
   "cell_type": "markdown",
   "metadata": {},
   "source": [
    "## Задание 2\n",
    "Посчитать коэффициент линейной регрессии при заработной плате (zp), используя градиентный спуск (без intercept)."
   ]
  },
  {
   "cell_type": "code",
   "execution_count": 75,
   "metadata": {},
   "outputs": [
    {
     "name": "stdout",
     "output_type": "stream",
     "text": [
      "Iteration 1196; bt=5.889820420132673; B1 = 5.889820420132673; mse = 56516.85841571943\n",
      "Iteration 1197; bt=5.889820420132673; B1 = 5.889820420132673; mse = 56516.85841571943\n",
      "Iteration 1198; bt=5.889820420132673; B1 = 5.889820420132673; mse = 56516.85841571943\n",
      "B1 = 5.889820420132673\n",
      "r = 1.9946879254734091\n"
     ]
    }
   ],
   "source": [
    "alpha = 1e-6\n",
    "X = zp\n",
    "y = ks\n",
    "n = len(zp) # 10\n",
    "\n",
    "def mse_(b1, x=X, y=y, n=n):\n",
    "    return np.sum((b1*x-y)**2)/n\n",
    "\n",
    "B1 = 0.1\n",
    "\n",
    "ccount = 0\n",
    "bt = B1\n",
    "for i in range(3000):\n",
    "    B1 -= alpha * (2/n) * np.sum((B1*X - y) * X)\n",
    "    \n",
    "    if bt == B1:\n",
    "        print(f'Iteration {i}; bt={bt}; B1 = {B1}; mse = {mse_(B1)}')\n",
    "        ccount += 1\n",
    "    \n",
    "    if(ccount == 3):\n",
    "        break;\n",
    "    bt = B1\n",
    "    \n",
    "r = B1 * X.std() / y.std()\n",
    "\n",
    "print(f'B1 = {B1}') # mse = 56516.85841571943 - что-то очень большая ошибка\n",
    "print(f'r = {r}')"
   ]
  },
  {
   "cell_type": "markdown",
   "metadata": {},
   "source": [
    "## Задание 3\n",
    "В каких случаях для вычисления доверительных интервалов и проверки статистических гипотез используется таблица значений функции Лапласа, а в каких - таблица критических точек распределения Стьюдента?"
   ]
  },
  {
   "cell_type": "markdown",
   "metadata": {},
   "source": [
    "Таблица значений функции Лапласа используется для известной дисперсии.\n",
    "Таблица критических точек распределения Стьюдента - используется, когда дисперсия неизвестна и используется расчётное значение"
   ]
  },
  {
   "cell_type": "markdown",
   "metadata": {},
   "source": [
    "## Задание 4\n",
    "Произвести вычисления как в пункте 2, но с вычислением intercept. Учесть, что изменение коэффициентов должно производиться на каждом шаге одновременно (то есть изменение одного коэффициента не должно влиять на изменение другого во время одной итерации)."
   ]
  },
  {
   "cell_type": "code",
   "execution_count": 78,
   "metadata": {},
   "outputs": [
    {
     "name": "stdout",
     "output_type": "stream",
     "text": [
      "Iteration 1187; bt=(5.747516933275673, 5.8475169332756725); B = (5.747516933275673, 5.8475169332756725); mse = 55230.06710704767\n",
      "Iteration 1188; bt=(5.747516933275673, 5.8475169332756725); B = (5.747516933275673, 5.8475169332756725); mse = 55230.06710704767\n",
      "Iteration 1189; bt=(5.747516933275673, 5.8475169332756725); B = (5.747516933275673, 5.8475169332756725); mse = 55230.06710704767\n",
      "B0 = 5.747516933275673, B1 = 5.8475169332756725\n",
      "r = 7.7278780629522785\n"
     ]
    }
   ],
   "source": [
    "alpha = 1e-6\n",
    "X = zp\n",
    "y = ks\n",
    "n = len(zp)\n",
    "\n",
    "def mse_(b0, b1, x=X, y=y, n=n):\n",
    "    return np.sum(((b0 + b1*x)-y)**2)/n\n",
    "\n",
    "B0 = 0 # это интерсепт\n",
    "B1 = 0.1\n",
    "\n",
    "ccount = 0\n",
    "bt = (B0, B1)\n",
    "\n",
    "for i in range(10000):\n",
    "    B0 -= alpha * (2/n) * np.sum(((bt[0] + bt[1]*X) - y) * X)\n",
    "    B1 -= alpha * (2/n) * np.sum(((bt[0] + bt[1]*X) - y) * X)\n",
    "    \n",
    "    if bt == (B0, B1):\n",
    "        print(f'Iteration {i}; bt={bt}; B = {(B0, B1)}; mse = {mse_(B0, B1)}')\n",
    "\n",
    "    if bt == (B0, B1):\n",
    "        ccount += 1\n",
    "    \n",
    "    if(ccount == 3):\n",
    "        break;\n",
    "        \n",
    "    bt = (B0, B1)\n",
    "    \n",
    "    \n",
    "r = B0 + B1 * X.std() / y.std()\n",
    "\n",
    "# странные значения - видимо, я чего-то не понял\n",
    "print(f'B0 = {B0}, B1 = {B1}') # mse = 55230.06710704767 - что-то очень большая ошибка\n",
    "print(f'r = {r}')"
   ]
  },
  {
   "cell_type": "code",
   "execution_count": null,
   "metadata": {},
   "outputs": [],
   "source": []
  }
 ],
 "metadata": {
  "kernelspec": {
   "display_name": "Python 3",
   "language": "python",
   "name": "python3"
  },
  "language_info": {
   "codemirror_mode": {
    "name": "ipython",
    "version": 3
   },
   "file_extension": ".py",
   "mimetype": "text/x-python",
   "name": "python",
   "nbconvert_exporter": "python",
   "pygments_lexer": "ipython3",
   "version": "3.7.1"
  }
 },
 "nbformat": 4,
 "nbformat_minor": 2
}
